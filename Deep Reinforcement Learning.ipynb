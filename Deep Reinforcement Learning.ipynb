{
 "cells": [
  {
   "cell_type": "markdown",
   "metadata": {},
   "source": [
    "# Deep Reinforcement Learning <br>\n",
    "\n",
    "In this notebook a basic implementation of the \"Deep Q Learning\" algorithm for Deep Reinforcement Learning is provided. Deep Q Learning is a tecnique that uses a Neural Network to make the agent estimate the rewards of the next possible actions.  "
   ]
  },
  {
   "cell_type": "markdown",
   "metadata": {},
   "source": [
    "### Table of Contents\n",
    "\n",
    "* [1 Bellman equation](#chapter1)\n",
    "    * [1.1 Definitions](#section_1_1)\n",
    "    * [1.2 Fixed point](#section_1_2)\n",
    "    * [1.3 Algorithm](#section_1_3)\n",
    "* [2 Code](#chapter2)\n",
    "    * [2.1 Replay memory](#section_2_1)\n",
    "    * [2.2 Neural Network](#section_2_2)\n",
    "    * [2.3 Agent](#section_2_3)\n",
    "    * [2.4 Main](#section_2_4)"
   ]
  },
  {
   "cell_type": "markdown",
   "metadata": {},
   "source": [
    "## 1. Bellman equation <a class=\"anchor\" id=\"chapter1\"></a>"
   ]
  },
  {
   "cell_type": "markdown",
   "metadata": {},
   "source": [
    "### 1.1 Definitions <a class=\"anchor\" id=\"section_1_1\"></a>"
   ]
  },
  {
   "cell_type": "markdown",
   "metadata": {},
   "source": [
    "Let's first define [1] an environemnt giving a set $\\mathcal{S}$ of possible states $s$ in which the agent can find himself. Let's also define a set $\\mathcal{A}$ of actions $a$ in between the agent can choose to move around in the space. We call $R_k$ the reward that the agent receivs at the discrete step $k$ after choosing a certain action and going into a certain state. <br>\n",
    "\n",
    "Then the objective of the agent at a certain discrete time $t$ is to maximize the future global reward: $G_t = \\sum\\limits_{k = t+1}^T R_k$, where $T$ is the final time. So $R_{t+1}$ is the immediate reward, while the followings are the future ones. Obviously, the agent will be more interested in the immediate reward rather than the future ones, so we can introduce what is called a discount factor $\\gamma \\in [0,1]$, which reduced the importance of future rewards. The final formula for the function that at every step the agent wants to maximize is:\n",
    "$$\n",
    "    G_t = \\sum\\limits_{k = t+1}^T {\\gamma}^{k-t-1} R_k\n",
    "$$\n",
    "\n",
    "The agent will have a strategy to decide, given a state $s$, which action to take. This strategy is called \"policy\", and it's a function $\\pi : \\mathcal{S} \\times \\mathcal{A} \\to [0,1]$ that, given a state $s$ in which the agent is, gives the probability for the agent to take the action $a$. <br>\n",
    "If we call the current state $s$, then we call $s'$ the following one. We can define then also the probability $p(s', r|s, a)$, which in the probability of the agent to go in the next state $s'$ and get the reward $r$, given that he is in the state $s$ and took the action $a$.\n",
    "\n",
    "We now define the $Q_{\\pi} : \\mathcal{S} \\times \\mathcal{A} \\to \\mathbb{R}$ function, which we will use in the algorithm, which is the expected reward given the state and the action. So \n",
    "\n",
    "$$\n",
    "    Q_{\\pi}(s, a) = \\mathbb{E}_{\\pi}[G_t | S_t = s, A_t = a]\n",
    "$$\n",
    "\n",
    "The last thing we define is the value function $V_{\\pi} : \\mathcal{S} \\to \\mathbb{R}$, which is defined as \n",
    "$$\n",
    "    V_{\\pi}(s) = \\mathbb{E}_{\\pi}[G_t | S_t = s]\n",
    "$$\n",
    "\n",
    "which is the expected value from state $s$ if the agent follows the policy $\\pi$.<br>\n",
    "\n"
   ]
  },
  {
   "cell_type": "markdown",
   "metadata": {},
   "source": [
    "### 1.2 Fixed point <a class=\"anchor\" id=\"section_1_2\"></a>"
   ]
  },
  {
   "cell_type": "markdown",
   "metadata": {},
   "source": [
    "\n",
    "Then it can be proved that [2]: \n",
    "\n",
    "$$\n",
    "    V_{\\pi}(s) = \\sum\\limits_{a \\in \\mathcal{A}} \\pi(a|s) \\sum\\limits_{s' \\in \\mathcal{S}} \\sum\\limits_{r \\in \\mathcal{R}} p(s', r|s, a)\\left[r+\\gamma V_{\\pi}(s')\\right]\n",
    "$$\n",
    " \n",
    "Which shows that the the $V_{\\pi}$ value function contains itself. \n",
    "\n",
    "Analogously it's true that:\n",
    "$$\n",
    "    Q_{\\pi}(s, a) = \\sum\\limits_{s' \\in \\mathcal{S}} \\sum\\limits_{r \\in \\mathcal{R}} p(s', r|s, a)\\left[r+\\gamma Q_{\\pi}(s', a)\\right]\n",
    "$$\n",
    " \n",
    "It can be proved that these equations are contractions with increasing values, which means that, because of the Banach theorem, there exists a fixed point $Q^*_{\\pi}$ such that:\n",
    "\n",
    "$$\n",
    "    Q^*_{\\pi}(s, a) = \\sum\\limits_{s' \\in \\mathcal{S}} \\sum\\limits_{r \\in \\mathcal{R}} p(s', r|s, a)\\left[r+\\gamma Q^*_{\\pi}(s, a)\\right] \n",
    "$$\n",
    "\n",
    "and since every contraction increases the value, it's intuitive that \n",
    "$$\n",
    "    Q^*_{\\pi} = \\max\\limits_{a \\in \\mathcal{A}}Q(s,a)\n",
    "$$\n",
    "\n",
    "So the equation is:\n",
    "\n",
    "$$\n",
    "    Q^*_{\\pi}(s, a) = \\mathbb{E}_{\\pi}\\left[r+\\gamma \\max\\limits_{a \\in \\mathcal{A}}Q_{\\pi}(s, a)\\right]\n",
    "$$"
   ]
  },
  {
   "cell_type": "markdown",
   "metadata": {},
   "source": [
    "### 1.3 Algorithm <a class=\"anchor\" id=\"section_1_3\"></a>"
   ]
  },
  {
   "cell_type": "markdown",
   "metadata": {},
   "source": [
    "We will build a neural network which tries to approximate the $Q$ function, and we thus want it to have, as output, the fixed point $Q^*_{\\pi}(s, a) = \\mathbb{E}_{\\pi}\\left[r+\\gamma \\max\\limits_{a \\in \\mathcal{A}}Q_{\\pi}(s, a)\\right]$\n",
    "\n",
    "In order to do so, we will use the following loss function [1]:\n",
    "\n",
    "$$\n",
    "    L = \\left(Y(s', a) -  Q(s,a)\\right)^2\n",
    "$$\n",
    "\n",
    "where $Y(s', a) = r+\\gamma \\max\\limits_{a \\in \\mathcal{A}}Q_{\\pi}(s', a)$.\n",
    "\n",
    "We endow our agent with a memory, where all the information about the previous played states, actions, rewards, etc, are stored. Iterating the above formula on a batch of values $(s,a)$ from the memory will lead to an average value $L = \\mathbb{E}\\left[\\left( Y(s', a) - Q(s,a) \\right)^2\\right] $. Minimizing this loss function will lead to the desired output. <br>\n",
    "\n",
    "In fact, given a generic variance $\\mathbb{E}\\left[\\left( X - c \\right)^2\\right] $, it's easy to show that the minimum value is reached when $c = \\mathbb{E}[X]$. Equally, in this case, the minimum of the loss funcion $ L = \\mathbb{E}\\left[\\left( Y(s', a) - Q(s,a) \\right)^2\\right]$ will be reached when \n",
    "\n",
    "$$\n",
    "    Q(s,a) = \\mathbb{E}\\left[r+\\gamma \\max\\limits_{a \\in \\mathcal{A}}Q_{\\pi}(s', a)\\right]\n",
    "$$\n",
    "\n",
    "which is exactly the desired output, the solution of the bellman equation."
   ]
  },
  {
   "cell_type": "markdown",
   "metadata": {},
   "source": [
    "References: <br> \n",
    "[1] Sutton book: https://mitpress.mit.edu/books/reinforcement-learning-second-edition <br>\n",
    "    [2] Bellman equation: https://stats.stackexchange.com/questions/243384/deriving-bellmans-equation-in-reinforcement-learning <br>\n",
    "    [3] Theoretical review: https://arxiv.org/pdf/1901.00137.pdf <br>\n",
    "    \n"
   ]
  },
  {
   "cell_type": "markdown",
   "metadata": {},
   "source": [
    "## 2. Code <a class=\"anchor\" id=\"chapter2\"></a>"
   ]
  },
  {
   "cell_type": "markdown",
   "metadata": {},
   "source": [
    "References: <br>\n",
    "[1] Coding tutorial: https://www.youtube.com/watch?v=wc-FxNENg9U <br>"
   ]
  },
  {
   "cell_type": "code",
   "execution_count": 1,
   "metadata": {},
   "outputs": [],
   "source": [
    "# usual\n",
    "import numpy as np\n",
    "import matplotlib.pyplot as plt\n",
    "\n",
    "# pytorch\n",
    "import torch\n",
    "import torch.nn as nn\n",
    "import torch.nn.functional as functional\n",
    "import torch.optim as optim\n",
    "\n",
    "# gym\n",
    "import gym"
   ]
  },
  {
   "cell_type": "markdown",
   "metadata": {},
   "source": [
    "### 2.1 Replay Memory <a class=\"anchor\" id=\"section_2_1\"></a>"
   ]
  },
  {
   "cell_type": "code",
   "execution_count": 2,
   "metadata": {},
   "outputs": [],
   "source": [
    "class ReplayMemory():\n",
    "    \"\"\"\n",
    "    Memory of the agent where all the moves and the episodes will be saved\n",
    "    \"\"\"\n",
    "    def __init__(self, max_mem_size, input_dim):\n",
    "        # maximum size of the memory\n",
    "        self.mem_size = max_mem_size\n",
    "        \n",
    "        # number of items in the memory\n",
    "        self.mem_counter = 0\n",
    "        \n",
    "        # information that the memory will store\n",
    "        self.state_memory = np.zeros((self.mem_size, *input_dim), dtype=np.float32)\n",
    "        self.new_state_memory = np.zeros((self.mem_size, *input_dim), dtype=np.float32)\n",
    "        self.action_memory = np.zeros(self.mem_size, dtype=np.int32)\n",
    "        self.reward_memory = np.zeros(self.mem_size, dtype=np.float32)\n",
    "        self.terminal_memory = np.zeros(self.mem_size, dtype=np.bool)\n",
    "    \n",
    "    def push(self, state, action, reward, next_state, done):\n",
    "        \"\"\"\n",
    "        push new information into the memory\n",
    "        \"\"\"\n",
    "        # index to eventually overwrite past memory\n",
    "        index = self.mem_counter % self.mem_size\n",
    "        \n",
    "        # push the information\n",
    "        self.state_memory[index] = state\n",
    "        self.new_state_memory[index] = next_state\n",
    "        self.reward_memory[index] = reward\n",
    "        self.action_memory[index] = action\n",
    "        self.terminal_memory[index] = done\n",
    "        \n",
    "        # increase the counter\n",
    "        self.mem_counter += 1\n",
    "        \n",
    "    def sample(self, batch_size):\n",
    "        \"\"\"\n",
    "        get some information from the memory\n",
    "        \"\"\"\n",
    "        # get number of info in memory\n",
    "        max_mem = min(self.mem_counter, self.mem_size)\n",
    "        \n",
    "        # select 'batch_size' randon numbers in the interval [0, max_mem]\n",
    "        sample_indices = np.random.choice(a = max_mem, size = batch_size, replace=False)\n",
    "        \n",
    "        # get an array of evenly spaced ints [0, 1, 2,..., batch_size]\n",
    "        batch_indices = np.arange(batch_size, dtype=np.int32)\n",
    "        \n",
    "        # sample from the memory \n",
    "        state_batch = torch.tensor(self.state_memory[sample_indices])\n",
    "        new_state_batch = torch.tensor(self.new_state_memory[sample_indices])\n",
    "        reward_batch = torch.tensor(self.reward_memory[sample_indices])\n",
    "        terminal_batch = torch.tensor(self.terminal_memory[sample_indices])\n",
    "        action_batch = self.action_memory[sample_indices]\n",
    "        \n",
    "        return batch_indices, state_batch, new_state_batch, reward_batch, terminal_batch, action_batch "
   ]
  },
  {
   "cell_type": "markdown",
   "metadata": {},
   "source": [
    "### 2.2 Neural Network <a class=\"anchor\" id=\"section_2_2\"></a>"
   ]
  },
  {
   "cell_type": "code",
   "execution_count": 3,
   "metadata": {},
   "outputs": [],
   "source": [
    "class NeuralNetwork(nn.Module):\n",
    "    \"\"\"\n",
    "    Neural network used to apprixmate the Q funcion\n",
    "    \"\"\"\n",
    "    def __init__(self, lr, input_dim, layer1_dim, layer2_dim, n_actions):\n",
    "        super(NeuralNetwork, self).__init__()\n",
    "        \n",
    "        # dimensions\n",
    "        self.input_dim = input_dim\n",
    "        self.layer1_dim = layer1_dim\n",
    "        self.layer2_dim = layer2_dim\n",
    "        self.output_dim = n_actions\n",
    "        \n",
    "        # layers\n",
    "        self.layer1 = nn.Linear(*self.input_dim, self.layer1_dim)\n",
    "        self.layer2 = nn.Linear(self.layer1_dim, self.layer2_dim)\n",
    "        self.layer3 = nn.Linear(self.layer2_dim, self.output_dim)\n",
    "        \n",
    "        # optimizer and loss\n",
    "        self.optimizer = optim.Adam(self.parameters(), lr=lr)\n",
    "        self.loss = nn.MSELoss()\n",
    "    \n",
    "    def forward(self, state):\n",
    "        \"\"\"\n",
    "        Forward pass\n",
    "        \"\"\"\n",
    "        # architecture\n",
    "        x = functional.relu(self.layer1(state))\n",
    "        x = functional.relu(self.layer2(x))\n",
    "        actions = self.layer3(x)\n",
    "        \n",
    "        return actions"
   ]
  },
  {
   "cell_type": "markdown",
   "metadata": {},
   "source": [
    "### 2.3 Agent <a class=\"anchor\" id=\"section_2_3\"></a>"
   ]
  },
  {
   "cell_type": "code",
   "execution_count": 4,
   "metadata": {},
   "outputs": [],
   "source": [
    "class Agent():\n",
    "    \"\"\"\n",
    "    Agent that will implement the deep Q-Learning algorithm\n",
    "    \"\"\"\n",
    "    def __init__(self, gamma, epsilon, lr, input_dim, batch_size, n_actions, max_mem_size = 100000, eps_end=0.01, eps_dec=5e-4):\n",
    "        # agent params\n",
    "        self.gamma = gamma\n",
    "        self.epsilon = epsilon\n",
    "        self.eps_end = eps_end\n",
    "        self.eps_dec = eps_dec\n",
    "        self.lr = lr\n",
    "        self.batch_size = batch_size\n",
    "        \n",
    "        # action space\n",
    "        self.action_space = [i for i in range(n_actions)]\n",
    "        \n",
    "        # neural net\n",
    "        self.neural_net = NeuralNetwork(self.lr, n_actions=n_actions, input_dim = input_dim, layer1_dim = 128, layer2_dim = 128)\n",
    "        \n",
    "        # memory\n",
    "        self.memory = ReplayMemory(max_mem_size, input_dim)\n",
    "            \n",
    "            \n",
    "    def store_transition(self, state, action, reward, next_state, done):\n",
    "        \"\"\"\n",
    "        Store one transition into the memory\n",
    "        \"\"\"\n",
    "        self.memory.push(state, action, reward, next_state, done)\n",
    "        \n",
    "        \n",
    "    def choose_action(self, observation):\n",
    "        \"\"\"\n",
    "        Choose next action\n",
    "        \"\"\"\n",
    "        # if epsilon is low enough \n",
    "        if np.random.random() > self.epsilon: \n",
    "            # then choose with the neural net\n",
    "            state = torch.tensor([observation])\n",
    "            actions = self.neural_net.forward(state)\n",
    "            action = torch.argmax(actions).item()\n",
    "        else:\n",
    "            # otherwise do a random action\n",
    "            action = np.random.choice(self.action_space)\n",
    "        \n",
    "        return action\n",
    "    \n",
    "    \n",
    "    def learn(self):\n",
    "        \"\"\"\n",
    "        Learn from past experience\n",
    "        \"\"\"\n",
    "        # if there is not enough information in the memory\n",
    "        if self.memory.mem_counter < self.batch_size:\n",
    "            # it's not yet time to learn\n",
    "            return\n",
    "          \n",
    "        # otherwise, for a certain amount of iterations\n",
    "        for i in range(2):  \n",
    "            # reset the grad\n",
    "            self.neural_net.optimizer.zero_grad()\n",
    "        \n",
    "            # sample some information from the memory\n",
    "            batch_indices, state_batch, new_state_batch, reward_batch, terminal_batch, action_batch = self.memory.sample(self.batch_size)\n",
    "        \n",
    "            # Calculate Q(s,a), the Q value of the initial state\n",
    "                # The NN takes as input a state and returns the Q values of that state for the possible actions (here 2)\n",
    "                # If we pass an array of states, it returns an array of arryas:\n",
    "                    # this means: [[value of all possible actions of state 0], [value of all possible actions of state 1],...]\n",
    "                # Then we get the elements [batch_indices, action_batch]\n",
    "                    # this means: for every action in batch_index=[0, 1, ..., batch_dim], \n",
    "                    # select the action that the agent actually took, which is in action_batch = [0, 0, 1, 0, 1, ... ]\n",
    "            Q_itial_state = self.neural_net.forward(state_batch)[batch_indices, action_batch]\n",
    "        \n",
    "            # calculate Q(s',a), the Q value of the final state\n",
    "            Q_final_state = self.neural_net.forward(new_state_batch)\n",
    "            # if the final state was a terminal one, then there is no expected value for future moves\n",
    "            Q_final_state[terminal_batch] = 0.0\n",
    "            # calculate Y = r + γmax(Q(s',a))\n",
    "            # note: torch.max returns (value, index). We only want the value.\n",
    "            Y = reward_batch + self.gamma * torch.max(Q_final_state, dim=1)[0]\n",
    "\n",
    "            # training step\n",
    "            loss = self.neural_net.loss(Y, Q_itial_state)\n",
    "            loss.backward()\n",
    "            self.neural_net.optimizer.step()\n",
    "        \n",
    "        # decrease epsilon\n",
    "        if self.epsilon > self.eps_end:\n",
    "            self.epsilon = self.epsilon - self.eps_dec\n",
    "        else: \n",
    "            self.epsilon = self.eps_end"
   ]
  },
  {
   "cell_type": "markdown",
   "metadata": {},
   "source": [
    "### 2.4 Main <a class=\"anchor\" id=\"section_2_4\"></a>"
   ]
  },
  {
   "cell_type": "code",
   "execution_count": 5,
   "metadata": {},
   "outputs": [
    {
     "name": "stdout",
     "output_type": "stream",
     "text": [
      "episode 0 score 12.00 last 10 average score 12 epsilon 1.00\n",
      "episode 50 score 21.00 last 10 average score 22 epsilon 0.48\n",
      "episode 100 score 32.00 last 10 average score 52 epsilon 0.01\n",
      "episode 150 score 156.00 last 10 average score 206 epsilon 0.01\n",
      "episode 200 score 139.00 last 10 average score 279 epsilon 0.01\n",
      "episode 250 score 336.00 last 10 average score 273 epsilon 0.01\n",
      "episode 300 score 228.00 last 10 average score 300 epsilon 0.01\n",
      "episode 350 score 290.00 last 10 average score 305 epsilon 0.01\n",
      "episode 400 score 187.00 last 10 average score 298 epsilon 0.01\n",
      "episode 450 score 387.00 last 10 average score 322 epsilon 0.01\n"
     ]
    }
   ],
   "source": [
    "# crate environment \n",
    "env = gym.make('CartPole-v1')\n",
    "\n",
    "# observation and action space\n",
    "n_actions = env.action_space.n\n",
    "input_dim = env.observation_space.shape[0]\n",
    "\n",
    "# create agent\n",
    "agent = Agent(gamma=0.99, epsilon=1, batch_size=64, n_actions=n_actions, eps_end=0.01, input_dim=[input_dim], lr=0.0001)\n",
    "\n",
    "# params\n",
    "scores, eps_history = [], []\n",
    "n_games = 500\n",
    "\n",
    "# for every episode\n",
    "for i in range(n_games):\n",
    "    # reset everything\n",
    "    score = 0\n",
    "    cost = 0\n",
    "    done = False\n",
    "    observation = env.reset()\n",
    "    \n",
    "    # while the agent is still playing\n",
    "    while not done:\n",
    "        \n",
    "        # choose an action\n",
    "        action = agent.choose_action(observation)\n",
    "        \n",
    "        # make a step \n",
    "        new_observation, reward, done, info = env.step(action)\n",
    "        \n",
    "        # sum the reward\n",
    "        score += reward\n",
    "        \n",
    "        # store the transition \n",
    "        agent.store_transition(observation, action, reward, new_observation, done)\n",
    "        \n",
    "        # learn from experience\n",
    "        agent.learn()\n",
    "        \n",
    "        # start from new observation\n",
    "        observation = new_observation\n",
    "\n",
    "    # append the score \n",
    "    scores.append(score)\n",
    "\n",
    "    # append epsilon\n",
    "    eps_history.append(agent.epsilon)\n",
    "    \n",
    "    # avrage the score \n",
    "    avg_score = np.mean(scores[-50:])\n",
    "    \n",
    "    # plot each n steps\n",
    "    if i%50 == 0:\n",
    "        print('episode', i, 'score %.2f' % score, 'last 10 average score %2.f' % avg_score, 'epsilon %.2f' %agent.epsilon)"
   ]
  },
  {
   "cell_type": "code",
   "execution_count": 6,
   "metadata": {},
   "outputs": [
    {
     "data": {
      "image/png": "[encoded data removed]",
      "text/plain": [
       "<Figure size 432x288 with 1 Axes>"
      ]
     },
     "metadata": {
      "needs_background": "light"
     },
     "output_type": "display_data"
    }
   ],
   "source": [
    "plt.plot(scores, color='blue');"
   ]
  },
  {
   "cell_type": "code",
   "execution_count": 7,
   "metadata": {},
   "outputs": [
    {
     "data": {
      "text/plain": [
       "[<matplotlib.lines.Line2D at 0x7fca14a97eb0>]"
      ]
     },
     "execution_count": 7,
     "metadata": {},
     "output_type": "execute_result"
    },
    {
     "data": {
      "image/png": "[encoded data removed]",
      "text/plain": [
       "<Figure size 432x288 with 1 Axes>"
      ]
     },
     "metadata": {
      "needs_background": "light"
     },
     "output_type": "display_data"
    }
   ],
   "source": [
    "# plot the averaged results\n",
    "avgs = []\n",
    "span = 40\n",
    "for i in range(1,len(scores)):\n",
    "    \n",
    "    start = i-span\n",
    "    if start < 0:\n",
    "        start = 0\n",
    "\n",
    "    current = scores[start:i]\n",
    "    avg = sum(current)/(len(current)+1)\n",
    "    avgs.append(avg)\n",
    "plt.plot(avgs, color='blue')"
   ]
  },
  {
   "cell_type": "markdown",
   "metadata": {},
   "source": [
    "## 3 Conclusions <a class=\"anchor\" id=\"chapter3\"></a>"
   ]
  },
  {
   "cell_type": "markdown",
   "metadata": {},
   "source": [
    "As it can be seen, the agent does learn how to play. Thought , after ~200 steps, it starts having more troubles learning. The reason is that one thing that is missing in this algorithm is the target net. To converge, the deep q learning algorithm need another neural network. One will estimate the function $Q(s,a;\\theta)$, while the other one the function $Q(s',a;\\theta')$. The implementation of the target net is a proposal for future developments of the project. It's interesting to see though, that at this stage, this simple and basic implementation already fulfills the task. "
   ]
  }
 ],
 "metadata": {
  "kernelspec": {
   "display_name": "Python 3 (ipykernel)",
   "language": "python",
   "name": "python3"
  },
  "language_info": {
   "codemirror_mode": {
    "name": "ipython",
    "version": 3
   },
   "file_extension": ".py",
   "mimetype": "text/x-python",
   "name": "python",
   "nbconvert_exporter": "python",
   "pygments_lexer": "ipython3",
   "version": "3.9.10"
  }
 },
 "nbformat": 4,
 "nbformat_minor": 4
}
